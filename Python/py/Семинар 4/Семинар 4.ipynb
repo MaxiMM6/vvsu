{
 "cells": [
  {
   "cell_type": "code",
   "execution_count": 10,
   "metadata": {},
   "outputs": [
    {
     "name": "stdout",
     "output_type": "stream",
     "text": [
      "Python по-английски будет  питон.\n",
      "Anaconda по-английски будет анаконда.\n",
      "Snake по-английски будет змея.\n",
      "Tortoise по-английски будет  черепаха.\n"
     ]
    }
   ],
   "source": [
    "#task1\n",
    "\n",
    "rept = {\"python\" : \" питон\",\n",
    "        \"anaconda\" : \"анаконда\",\n",
    "        \"tortoize\" : \" черепаха\" }\n",
    "\n",
    "rept[\"snake\"] = \"змея\"\n",
    "\n",
    "rept[\"tortoise\"] = rept[\"tortoize\"]\n",
    "rept.pop('tortoize')\n",
    "\n",
    "for k, v in rept.items():\n",
    "    print(f'{k.capitalize()} по-английски будет {v}.')"
   ]
  },
  {
   "cell_type": "code",
   "execution_count": 12,
   "metadata": {},
   "outputs": [
    {
     "name": "stdout",
     "output_type": "stream",
     "text": [
      "{'Andorra': 1.0, 'Belarus': 6.0, 'Denmark': 1.0, 'Kenya': 4.0, 'Jamaica': 2.5, 'Romania': 2.0}\n"
     ]
    }
   ],
   "source": [
    "#task2 \n",
    "\n",
    "cnt = [\"Andorra\", \"Belarus\", \"Denmark\",\n",
    "       \"Kenya\", \"Jamaica\", \"Romania\"]\n",
    "fh = [1.0, 6.0, 1.0, 4.0, 2.5, 2.0]\n",
    "\n",
    "new_dict = dict(zip(cnt, fh))\n",
    "\n",
    "print(new_dict)"
   ]
  },
  {
   "cell_type": "code",
   "execution_count": 3,
   "metadata": {},
   "outputs": [
    {
     "name": "stdout",
     "output_type": "stream",
     "text": [
      "{(2, 4): 8, (4, 6): 24, (0, 1): 0, (5, 2): 10, (9, 1): 9, (3, 8): 24}\n"
     ]
    }
   ],
   "source": [
    "#task3\n",
    "\n",
    "pairs = [(2, 4), (4, 6), (0, 1), (5, 2), (9, 1), (3, 8)]\n",
    "\n",
    "calc = {}\n",
    "\n",
    "for i in pairs:\n",
    "    calc[i] = i[0] * i[1]\n",
    "\n",
    "print(calc)"
   ]
  },
  {
   "cell_type": "code",
   "execution_count": 13,
   "metadata": {},
   "outputs": [
    {
     "name": "stdout",
     "output_type": "stream",
     "text": [
      "Anna 4\n",
      "Bob 3\n",
      "Claire 5\n",
      "Dick 2\n",
      "Elena 5\n",
      "Fred 5\n",
      "George 4\n",
      "Kristina 3\n",
      "Nick 2\n",
      "Ursula 4\n",
      "Viktor 5\n",
      "Excel = ['Claire', 'Elena', 'Fred', 'Viktor']\n",
      "Good = ['Anna', 'George', 'Ursula']\n",
      "Satisf = ['Bob', 'Kristina']\n",
      "Bad = ['Dick', 'Nick']\n"
     ]
    }
   ],
   "source": [
    "#task4\n",
    "\n",
    "grades = {'Anna': 4, 'Bob': 3, 'Claire': 5, 'Dick': 2, 'Elena': 5,\n",
    "          'Fred': 5, 'George': 4, 'Kristina': 3, 'Nick': 2,\n",
    "          'Ursula': 4, 'Viktor': 5}\n",
    "\n",
    "excel = []\n",
    "good = []\n",
    "satisf = []\n",
    "bad = []\n",
    "\n",
    "\n",
    "for k, v in grades.items():\n",
    "    print(k, v)\n",
    "    if v == 2:\n",
    "        bad.append(k)\n",
    "    elif v == 3:\n",
    "        satisf.append(k)\n",
    "    elif v == 4:\n",
    "        good.append(k)\n",
    "    else:\n",
    "        excel.append(k)\n",
    "\n",
    "print(f'Excel = {excel}')\n",
    "print(f'Good = {good}')\n",
    "print(f'Satisf = {satisf}')\n",
    "print(f'Bad = {bad}')"
   ]
  }
 ],
 "metadata": {
  "kernelspec": {
   "display_name": "Python 3",
   "language": "python",
   "name": "python3"
  },
  "language_info": {
   "codemirror_mode": {
    "name": "ipython",
    "version": 3
   },
   "file_extension": ".py",
   "mimetype": "text/x-python",
   "name": "python",
   "nbconvert_exporter": "python",
   "pygments_lexer": "ipython3",
   "version": "3.13.0"
  }
 },
 "nbformat": 4,
 "nbformat_minor": 2
}
