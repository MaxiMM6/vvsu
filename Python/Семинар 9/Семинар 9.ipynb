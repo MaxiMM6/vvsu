{
 "cells": [
  {
   "cell_type": "code",
   "execution_count": 23,
   "metadata": {},
   "outputs": [],
   "source": [
    "import pandas as pd\n",
    "import os\n",
    "import matplotlib\n",
    "\n",
    "os.chdir(r'C:\\Users\\tr0jaNNN\\Documents\\GitHub\\vvsu\\Python\\Семинар 9')"
   ]
  },
  {
   "cell_type": "markdown",
   "metadata": {},
   "source": [
    "            #Загрузка и предварительная обработка"
   ]
  },
  {
   "cell_type": "code",
   "execution_count": 5,
   "metadata": {},
   "outputs": [],
   "source": [
    "#task1-2\n",
    "df = pd.read_csv('Titanic.csv', index_col = 'PassengerId')"
   ]
  },
  {
   "cell_type": "code",
   "execution_count": 6,
   "metadata": {},
   "outputs": [],
   "source": [
    "#task3\n",
    "df = df.dropna()"
   ]
  },
  {
   "cell_type": "markdown",
   "metadata": {},
   "source": [
    "            #Описание базы данных"
   ]
  },
  {
   "cell_type": "code",
   "execution_count": 7,
   "metadata": {},
   "outputs": [
    {
     "name": "stdout",
     "output_type": "stream",
     "text": [
      "<class 'pandas.core.frame.DataFrame'>\n",
      "Index: 183 entries, 2 to 890\n",
      "Data columns (total 11 columns):\n",
      " #   Column    Non-Null Count  Dtype  \n",
      "---  ------    --------------  -----  \n",
      " 0   Survived  183 non-null    int64  \n",
      " 1   Pclass    183 non-null    int64  \n",
      " 2   Name      183 non-null    object \n",
      " 3   Sex       183 non-null    object \n",
      " 4   Age       183 non-null    float64\n",
      " 5   SibSp     183 non-null    int64  \n",
      " 6   Parch     183 non-null    int64  \n",
      " 7   Ticket    183 non-null    object \n",
      " 8   Fare      183 non-null    float64\n",
      " 9   Cabin     183 non-null    object \n",
      " 10  Embarked  183 non-null    object \n",
      "dtypes: float64(2), int64(4), object(5)\n",
      "memory usage: 17.2+ KB\n",
      "None\n"
     ]
    }
   ],
   "source": [
    "#task4\n",
    "print(df.info())"
   ]
  },
  {
   "cell_type": "code",
   "execution_count": 8,
   "metadata": {},
   "outputs": [
    {
     "name": "stdout",
     "output_type": "stream",
     "text": [
      "         Survived      Pclass         Age       SibSp       Parch        Fare\n",
      "count  183.000000  183.000000  183.000000  183.000000  183.000000  183.000000\n",
      "mean     0.672131    1.191257   35.674426    0.464481    0.475410   78.682469\n",
      "std      0.470725    0.515187   15.643866    0.644159    0.754617   76.347843\n",
      "min      0.000000    1.000000    0.920000    0.000000    0.000000    0.000000\n",
      "25%      0.000000    1.000000   24.000000    0.000000    0.000000   29.700000\n",
      "50%      1.000000    1.000000   36.000000    0.000000    0.000000   57.000000\n",
      "75%      1.000000    1.000000   47.500000    1.000000    1.000000   90.000000\n",
      "max      1.000000    3.000000   80.000000    3.000000    4.000000  512.329200\n"
     ]
    }
   ],
   "source": [
    "#task5\n",
    "print(df.describe())"
   ]
  },
  {
   "cell_type": "code",
   "execution_count": 9,
   "metadata": {},
   "outputs": [
    {
     "data": {
      "text/plain": [
       "Text(0, 0.5, 'y')"
      ]
     },
     "execution_count": 9,
     "metadata": {},
     "output_type": "execute_result"
    },
    {
     "data": {
      "image/png": "[encoded data removed]",
      "text/plain": [
       "<Figure size 640x480 with 1 Axes>"
      ]
     },
     "metadata": {},
     "output_type": "display_data"
    }
   ],
   "source": [
    "#task6\n",
    "ax = df['Age'].plot.hist(color = \"red\")\n",
    "ax.set_title('Age')\n",
    "ax.set_xlabel('x')\n",
    "ax.set_ylabel('y')"
   ]
  },
  {
   "cell_type": "code",
   "execution_count": 10,
   "metadata": {},
   "outputs": [
    {
     "data": {
      "text/plain": [
       "count    183.000000\n",
       "mean      78.682469\n",
       "std       76.347843\n",
       "min        0.000000\n",
       "25%       29.700000\n",
       "50%       57.000000\n",
       "75%       90.000000\n",
       "max      512.329200\n",
       "Name: Fare, dtype: float64"
      ]
     },
     "execution_count": 10,
     "metadata": {},
     "output_type": "execute_result"
    }
   ],
   "source": [
    "#task7\n",
    "df['Fare'].describe()"
   ]
  },
  {
   "cell_type": "markdown",
   "metadata": {},
   "source": [
    "            #Работа со строками и столбцами базы"
   ]
  },
  {
   "cell_type": "code",
   "execution_count": 11,
   "metadata": {},
   "outputs": [
    {
     "name": "stdout",
     "output_type": "stream",
     "text": [
      "['Survived', 'Pclass', 'Name', 'Sex', 'Age', 'SibSp', 'Parch', 'Ticket', 'Fare', 'Cabin', 'Embarked']\n"
     ]
    }
   ],
   "source": [
    "#task8\n",
    "columns_list = list(df.columns)\n",
    "print(columns_list)"
   ]
  },
  {
   "cell_type": "code",
   "execution_count": 12,
   "metadata": {},
   "outputs": [
    {
     "name": "stdout",
     "output_type": "stream",
     "text": [
      "Index(['Survived', 'Class', 'Name', 'Sex', 'Age', 'SibSp', 'Parch', 'Ticket',\n",
      "       'Fare', 'Cabin', 'Embarked'],\n",
      "      dtype='object')\n"
     ]
    }
   ],
   "source": [
    "#task9\n",
    "columns_list[1] = 'Class'\n",
    "df.columns = columns_list\n",
    "print(df.columns)"
   ]
  },
  {
   "cell_type": "code",
   "execution_count": 13,
   "metadata": {},
   "outputs": [
    {
     "name": "stdout",
     "output_type": "stream",
     "text": [
      "             Survived  Class  \\\n",
      "PassengerId                    \n",
      "2                   1      1   \n",
      "4                   1      1   \n",
      "11                  1      3   \n",
      "12                  1      1   \n",
      "53                  1      1   \n",
      "...               ...    ...   \n",
      "854                 1      1   \n",
      "863                 1      1   \n",
      "872                 1      1   \n",
      "880                 1      1   \n",
      "888                 1      1   \n",
      "\n",
      "                                                          Name     Sex   Age  \\\n",
      "PassengerId                                                                    \n",
      "2            Cumings, Mrs. John Bradley (Florence Briggs Th...  female  38.0   \n",
      "4                 Futrelle, Mrs. Jacques Heath (Lily May Peel)  female  35.0   \n",
      "11                             Sandstrom, Miss. Marguerite Rut  female   4.0   \n",
      "12                                    Bonnell, Miss. Elizabeth  female  58.0   \n",
      "53                    Harper, Mrs. Henry Sleeper (Myna Haxtun)  female  49.0   \n",
      "...                                                        ...     ...   ...   \n",
      "854                                  Lines, Miss. Mary Conover  female  16.0   \n",
      "863          Swift, Mrs. Frederick Joel (Margaret Welles Ba...  female  48.0   \n",
      "872           Beckwith, Mrs. Richard Leonard (Sallie Monypeny)  female  47.0   \n",
      "880              Potter, Mrs. Thomas Jr (Lily Alexenia Wilson)  female  56.0   \n",
      "888                               Graham, Miss. Margaret Edith  female  19.0   \n",
      "\n",
      "             SibSp  Parch    Ticket     Fare Cabin Embarked  \n",
      "PassengerId                                                  \n",
      "2                1      0  PC 17599  71.2833   C85        C  \n",
      "4                1      0    113803  53.1000  C123        S  \n",
      "11               1      1   PP 9549  16.7000    G6        S  \n",
      "12               0      0    113783  26.5500  C103        S  \n",
      "53               1      0  PC 17572  76.7292   D33        C  \n",
      "...            ...    ...       ...      ...   ...      ...  \n",
      "854              0      1  PC 17592  39.4000   D28        S  \n",
      "863              0      0     17466  25.9292   D17        S  \n",
      "872              1      1     11751  52.5542   D35        S  \n",
      "880              0      1     11767  83.1583   C50        C  \n",
      "888              0      0    112053  30.0000   B42        S  \n",
      "\n",
      "[88 rows x 11 columns]\n"
     ]
    }
   ],
   "source": [
    "#task10\n",
    "print(df[df['Sex'] == 'female'])"
   ]
  },
  {
   "cell_type": "code",
   "execution_count": 14,
   "metadata": {},
   "outputs": [
    {
     "name": "stdout",
     "output_type": "stream",
     "text": [
      "             Survived  Class                                       Name   Sex  \\\n",
      "PassengerId                                                                     \n",
      "24                  1      1               Sloper, Mr. William Thompson  male   \n",
      "98                  1      1            Greenfield, Mr. William Bertram  male   \n",
      "184                 1      2                  Becker, Master. Richard F  male   \n",
      "194                 1      2                 Navratil, Master. Michel M  male   \n",
      "306                 1      1             Allison, Master. Hudson Trevor  male   \n",
      "341                 1      2             Navratil, Master. Edmond Roger  male   \n",
      "371                 1      1                Harder, Mr. George Achilles  male   \n",
      "431                 1      1  Bjornstrom-Steffansson, Mr. Mauritz Hakan  male   \n",
      "446                 1      1                  Dodge, Master. Washington  male   \n",
      "485                 1      1                    Bishop, Mr. Dickinson H  male   \n",
      "551                 1      1                Thayer, Mr. John Borland Jr  male   \n",
      "682                 1      1                         Hassab, Mr. Hammad  male   \n",
      "691                 1      1                    Dick, Mr. Albert Adrian  male   \n",
      "725                 1      1              Chambers, Mr. Norman Campbell  male   \n",
      "752                 1      3                        Moor, Master. Meier  male   \n",
      "803                 1      1        Carter, Master. William Thornton II  male   \n",
      "890                 1      1                      Behr, Mr. Karl Howell  male   \n",
      "\n",
      "               Age  SibSp  Parch    Ticket      Fare    Cabin Embarked  \n",
      "PassengerId                                                             \n",
      "24           28.00      0      0    113788   35.5000       A6        S  \n",
      "98           23.00      0      1  PC 17759   63.3583  D10 D12        C  \n",
      "184           1.00      2      1    230136   39.0000       F4        S  \n",
      "194           3.00      1      1    230080   26.0000       F2        S  \n",
      "306           0.92      1      2    113781  151.5500  C22 C26        S  \n",
      "341           2.00      1      1    230080   26.0000       F2        S  \n",
      "371          25.00      1      0     11765   55.4417      E50        C  \n",
      "431          28.00      0      0    110564   26.5500      C52        S  \n",
      "446           4.00      0      2     33638   81.8583      A34        S  \n",
      "485          25.00      1      0     11967   91.0792      B49        C  \n",
      "551          17.00      0      2     17421  110.8833      C70        C  \n",
      "682          27.00      0      0  PC 17572   76.7292      D49        C  \n",
      "691          31.00      1      0     17474   57.0000      B20        S  \n",
      "725          27.00      1      0    113806   53.1000       E8        S  \n",
      "752           6.00      0      1    392096   12.4750     E121        S  \n",
      "803          11.00      1      2    113760  120.0000  B96 B98        S  \n",
      "890          26.00      0      0    111369   30.0000     C148        C  \n"
     ]
    }
   ],
   "source": [
    "#task11\n",
    "Ymale = df[(df['Survived'] == 1) & (df['Sex'] == 'male') & (df['Age'] < 32)]\n",
    "print(Ymale)"
   ]
  },
  {
   "cell_type": "code",
   "execution_count": 15,
   "metadata": {},
   "outputs": [
    {
     "name": "stdout",
     "output_type": "stream",
     "text": [
      "             Survived  Class  \\\n",
      "PassengerId                    \n",
      "2                   1      1   \n",
      "4                   1      1   \n",
      "7                   0      1   \n",
      "12                  1      1   \n",
      "22                  1      2   \n",
      "...               ...    ...   \n",
      "872                 1      1   \n",
      "873                 0      1   \n",
      "880                 1      1   \n",
      "888                 1      1   \n",
      "890                 1      1   \n",
      "\n",
      "                                                          Name     Sex   Age  \\\n",
      "PassengerId                                                                    \n",
      "2            Cumings, Mrs. John Bradley (Florence Briggs Th...  female  38.0   \n",
      "4                 Futrelle, Mrs. Jacques Heath (Lily May Peel)  female  35.0   \n",
      "7                                      McCarthy, Mr. Timothy J    male  54.0   \n",
      "12                                    Bonnell, Miss. Elizabeth  female  58.0   \n",
      "22                                       Beesley, Mr. Lawrence    male  34.0   \n",
      "...                                                        ...     ...   ...   \n",
      "872           Beckwith, Mrs. Richard Leonard (Sallie Monypeny)  female  47.0   \n",
      "873                                   Carlsson, Mr. Frans Olof    male  33.0   \n",
      "880              Potter, Mrs. Thomas Jr (Lily Alexenia Wilson)  female  56.0   \n",
      "888                               Graham, Miss. Margaret Edith  female  19.0   \n",
      "890                                      Behr, Mr. Karl Howell    male  26.0   \n",
      "\n",
      "             SibSp  Parch    Ticket     Fare        Cabin Embarked  \n",
      "PassengerId                                                         \n",
      "2                1      0  PC 17599  71.2833          C85        C  \n",
      "4                1      0    113803  53.1000         C123        S  \n",
      "7                0      0     17463  51.8625          E46        S  \n",
      "12               0      0    113783  26.5500         C103        S  \n",
      "22               0      0    248698  13.0000          D56        S  \n",
      "...            ...    ...       ...      ...          ...      ...  \n",
      "872              1      1     11751  52.5542          D35        S  \n",
      "873              0      0       695   5.0000  B51 B53 B55        S  \n",
      "880              0      1     11767  83.1583          C50        C  \n",
      "888              0      0    112053  30.0000          B42        S  \n",
      "890              0      0    111369  30.0000         C148        C  \n",
      "\n",
      "[173 rows x 11 columns]\n"
     ]
    }
   ],
   "source": [
    "#task12\n",
    "print(df[(df['Class'] == 1) | (df['Class'] == 2)])"
   ]
  },
  {
   "cell_type": "code",
   "execution_count": 16,
   "metadata": {},
   "outputs": [
    {
     "name": "stdout",
     "output_type": "stream",
     "text": [
      "             Survived  Class  \\\n",
      "PassengerId                    \n",
      "2                   1      1   \n",
      "4                   1      1   \n",
      "12                  1      1   \n",
      "22                  1      2   \n",
      "24                  1      1   \n",
      "...               ...    ...   \n",
      "863                 1      1   \n",
      "872                 1      1   \n",
      "880                 1      1   \n",
      "888                 1      1   \n",
      "890                 1      1   \n",
      "\n",
      "                                                          Name     Sex   Age  \\\n",
      "PassengerId                                                                    \n",
      "2            Cumings, Mrs. John Bradley (Florence Briggs Th...  female  38.0   \n",
      "4                 Futrelle, Mrs. Jacques Heath (Lily May Peel)  female  35.0   \n",
      "12                                    Bonnell, Miss. Elizabeth  female  58.0   \n",
      "22                                       Beesley, Mr. Lawrence    male  34.0   \n",
      "24                                Sloper, Mr. William Thompson    male  28.0   \n",
      "...                                                        ...     ...   ...   \n",
      "863          Swift, Mrs. Frederick Joel (Margaret Welles Ba...  female  48.0   \n",
      "872           Beckwith, Mrs. Richard Leonard (Sallie Monypeny)  female  47.0   \n",
      "880              Potter, Mrs. Thomas Jr (Lily Alexenia Wilson)  female  56.0   \n",
      "888                               Graham, Miss. Margaret Edith  female  19.0   \n",
      "890                                      Behr, Mr. Karl Howell    male  26.0   \n",
      "\n",
      "             SibSp  Parch    Ticket     Fare Cabin Embarked  \n",
      "PassengerId                                                  \n",
      "2                1      0  PC 17599  71.2833   C85        C  \n",
      "4                1      0    113803  53.1000  C123        S  \n",
      "12               0      0    113783  26.5500  C103        S  \n",
      "22               0      0    248698  13.0000   D56        S  \n",
      "24               0      0    113788  35.5000    A6        S  \n",
      "...            ...    ...       ...      ...   ...      ...  \n",
      "863              0      0     17466  25.9292   D17        S  \n",
      "872              1      1     11751  52.5542   D35        S  \n",
      "880              0      1     11767  83.1583   C50        C  \n",
      "888              0      0    112053  30.0000   B42        S  \n",
      "890              0      0    111369  30.0000  C148        C  \n",
      "\n",
      "[118 rows x 11 columns]\n"
     ]
    }
   ],
   "source": [
    "#task13\n",
    "print(df[(df['Survived'] == 1) & ((df['Class'] == 1) | (df['Class'] == 2))])"
   ]
  },
  {
   "cell_type": "code",
   "execution_count": 17,
   "metadata": {},
   "outputs": [
    {
     "name": "stdout",
     "output_type": "stream",
     "text": [
      "             Survived  Class  \\\n",
      "PassengerId                    \n",
      "2                   1      1   \n",
      "4                   1      1   \n",
      "7                   0      1   \n",
      "11                  1      3   \n",
      "12                  1      1   \n",
      "...               ...    ...   \n",
      "872                 1      1   \n",
      "873                 0      1   \n",
      "880                 1      1   \n",
      "888                 1      1   \n",
      "890                 1      1   \n",
      "\n",
      "                                                          Name     Sex   Age  \\\n",
      "PassengerId                                                                    \n",
      "2            Cumings, Mrs. John Bradley (Florence Briggs Th...  female  38.0   \n",
      "4                 Futrelle, Mrs. Jacques Heath (Lily May Peel)  female  35.0   \n",
      "7                                      McCarthy, Mr. Timothy J    male  54.0   \n",
      "11                             Sandstrom, Miss. Marguerite Rut  female   4.0   \n",
      "12                                    Bonnell, Miss. Elizabeth  female  58.0   \n",
      "...                                                        ...     ...   ...   \n",
      "872           Beckwith, Mrs. Richard Leonard (Sallie Monypeny)  female  47.0   \n",
      "873                                   Carlsson, Mr. Frans Olof    male  33.0   \n",
      "880              Potter, Mrs. Thomas Jr (Lily Alexenia Wilson)  female  56.0   \n",
      "888                               Graham, Miss. Margaret Edith  female  19.0   \n",
      "890                                      Behr, Mr. Karl Howell    male  26.0   \n",
      "\n",
      "             SibSp  Parch    Ticket     Fare        Cabin Embarked  Female  \n",
      "PassengerId                                                                 \n",
      "2                1      0  PC 17599  71.2833          C85        C       1  \n",
      "4                1      0    113803  53.1000         C123        S       1  \n",
      "7                0      0     17463  51.8625          E46        S       0  \n",
      "11               1      1   PP 9549  16.7000           G6        S       1  \n",
      "12               0      0    113783  26.5500         C103        S       1  \n",
      "...            ...    ...       ...      ...          ...      ...     ...  \n",
      "872              1      1     11751  52.5542          D35        S       1  \n",
      "873              0      0       695   5.0000  B51 B53 B55        S       0  \n",
      "880              0      1     11767  83.1583          C50        C       1  \n",
      "888              0      0    112053  30.0000          B42        S       1  \n",
      "890              0      0    111369  30.0000         C148        C       0  \n",
      "\n",
      "[183 rows x 12 columns]\n"
     ]
    }
   ],
   "source": [
    "#task14\n",
    "df['Female'] = (df['Sex'] == 'female').astype(int)\n",
    "print(df)"
   ]
  },
  {
   "cell_type": "markdown",
   "metadata": {},
   "source": [
    "            #Группировка"
   ]
  },
  {
   "cell_type": "code",
   "execution_count": 18,
   "metadata": {},
   "outputs": [
    {
     "name": "stdout",
     "output_type": "stream",
     "text": [
      "['C' 'S' 'Q']\n"
     ]
    }
   ],
   "source": [
    "#task1\n",
    "print(df.Embarked.unique())"
   ]
  },
  {
   "cell_type": "code",
   "execution_count": 19,
   "metadata": {},
   "outputs": [
    {
     "name": "stdout",
     "output_type": "stream",
     "text": [
      "             Class        Age     SibSp     Parch       Fare    Female\n",
      "Survived                                                              \n",
      "0         1.216667  41.350000  0.366667  0.450000  64.048262  0.100000\n",
      "1         1.178862  32.905854  0.512195  0.487805  85.821107  0.666667\n"
     ]
    }
   ],
   "source": [
    "#task2\n",
    "print(df.groupby('Survived').mean(numeric_only = True))"
   ]
  },
  {
   "cell_type": "code",
   "execution_count": 20,
   "metadata": {},
   "outputs": [
    {
     "name": "stdout",
     "output_type": "stream",
     "text": [
      "             mean  median\n",
      "Sex                      \n",
      "female  32.676136   32.25\n",
      "male    38.451789   37.00\n"
     ]
    }
   ],
   "source": [
    "#task3\n",
    "age_stats = df.groupby('Sex')['Age'].agg(['mean', 'median'])\n",
    "print(age_stats)"
   ]
  },
  {
   "cell_type": "markdown",
   "metadata": {},
   "source": [
    "            #Выгрузка базы в файл"
   ]
  },
  {
   "cell_type": "code",
   "execution_count": 21,
   "metadata": {},
   "outputs": [
    {
     "name": "stdout",
     "output_type": "stream",
     "text": [
      "Index(['survived', 'class', 'name', 'sex', 'age', 'sibsp', 'parch', 'ticket',\n",
      "       'fare', 'cabin', 'embarked', 'female'],\n",
      "      dtype='object')\n"
     ]
    }
   ],
   "source": [
    "#task1\n",
    "columns_list = list(df.columns)\n",
    "lower_list = [x.lower() for x in columns_list]\n",
    "df.columns = lower_list\n",
    "print(df.columns)"
   ]
  },
  {
   "cell_type": "code",
   "execution_count": 22,
   "metadata": {},
   "outputs": [],
   "source": [
    "#task2\n",
    "new_csv = df.to_csv('Titanic-new.csv')"
   ]
  }
 ],
 "metadata": {
  "kernelspec": {
   "display_name": "Python 3",
   "language": "python",
   "name": "python3"
  },
  "language_info": {
   "codemirror_mode": {
    "name": "ipython",
    "version": 3
   },
   "file_extension": ".py",
   "mimetype": "text/x-python",
   "name": "python",
   "nbconvert_exporter": "python",
   "pygments_lexer": "ipython3",
   "version": "3.13.0"
  }
 },
 "nbformat": 4,
 "nbformat_minor": 2
}
