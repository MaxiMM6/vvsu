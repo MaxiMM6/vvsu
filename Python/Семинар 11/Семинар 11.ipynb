{
 "cells": [
  {
   "cell_type": "code",
   "execution_count": 1,
   "metadata": {},
   "outputs": [],
   "source": [
    "import numpy as np"
   ]
  },
  {
   "cell_type": "code",
   "execution_count": 2,
   "metadata": {},
   "outputs": [
    {
     "name": "stdout",
     "output_type": "stream",
     "text": [
      "#1 [2 4 6 8]\n"
     ]
    }
   ],
   "source": [
    "#task1\n",
    "\n",
    "def double_this(arr):\n",
    "    return arr * 2\n",
    "\n",
    "arr = np.array([1, 2, 3, 4])\n",
    "print(f'#1 {double_this(arr)}')"
   ]
  },
  {
   "cell_type": "code",
   "execution_count": 3,
   "metadata": {},
   "outputs": [
    {
     "name": "stdout",
     "output_type": "stream",
     "text": [
      "#2 [2 4]\n"
     ]
    }
   ],
   "source": [
    "#task2\n",
    "\n",
    "def select_even(arr):\n",
    "    return arr[ arr % 2 == 0 ]\n",
    "\n",
    "arr = np.array([1, 2, 3, 4])\n",
    "print(f'#2 {select_even(arr)}')"
   ]
  },
  {
   "cell_type": "code",
   "execution_count": null,
   "metadata": {},
   "outputs": [
    {
     "name": "stdout",
     "output_type": "stream",
     "text": [
      "#3.1 [ 1 10  3 20  5]\n",
      "#3.2 [1 2 3 4 5]\n"
     ]
    }
   ],
   "source": [
    "#task3\n",
    "\n",
    "def wipe_even(arr, target_value, in_place):\n",
    "    \n",
    "    if in_place == True:\n",
    "        np.place(arr, arr % 2 == 0, target_value)\n",
    "        return arr\n",
    "    else:\n",
    "        return arr\n",
    "\n",
    "#1\n",
    "arr = np.array([1, 2, 3, 4, 5])\n",
    "target_value = np.array([10, 20, 30, 40, 50])\n",
    "in_place = True\n",
    "\n",
    "print(f'#3.1 {wipe_even(arr, target_value, in_place)}')\n",
    "\n",
    "#2\n",
    "arr = np.array([1, 2, 3, 4, 5])\n",
    "target_value = 0\n",
    "in_place = False\n",
    "\n",
    "print(f'#3.2 {wipe_even(arr, target_value, in_place)}')"
   ]
  },
  {
   "cell_type": "code",
   "execution_count": null,
   "metadata": {},
   "outputs": [
    {
     "name": "stdout",
     "output_type": "stream",
     "text": [
      "#1 2.8\n",
      "#2 28\n"
     ]
    }
   ],
   "source": [
    "#task4\n",
    "\n",
    "def weighted_sum(weights, grades, normalize):\n",
    "    total_weight = np.sum(weights)\n",
    "    \n",
    "    if (normalize == True) and (total_weight != 1):\n",
    "        weights = weights / total_weight\n",
    "\n",
    "    return np.dot(weights, grades)\n",
    "\n",
    "#1\n",
    "weights = np.array([1, 2, 3, 4])\n",
    "grades = np.array([1, 5, 3, 2])\n",
    "normalize = True\n",
    "\n",
    "print(f'#1 {weighted_sum(weights, grades, normalize)}')\n",
    "\n",
    "#2\n",
    "weights = np.array([1, 2, 3, 4])\n",
    "grades = np.array([1, 5, 3, 2])\n",
    "normalize = False\n",
    "\n",
    "print(f'#2 {weighted_sum(weights, grades, normalize)}')"
   ]
  },
  {
   "cell_type": "code",
   "execution_count": null,
   "metadata": {},
   "outputs": [
    {
     "name": "stdout",
     "output_type": "stream",
     "text": [
      "#5 {'male': 3.0, 'female': 5.0}\n"
     ]
    }
   ],
   "source": [
    "#task5\n",
    "\n",
    "def mean_by_gender(grades, genders):\n",
    "\n",
    "    male_grades = grades[ genders == 'male' ]\n",
    "    female_grades = grades[ genders == 'female' ]\n",
    "\n",
    "    male_mean = np.mean(male_grades)\n",
    "    female_mean = np.mean(female_grades)\n",
    "\n",
    "    result = {'male' : float(male_mean), 'female' : float(female_mean)}\n",
    "    return result\n",
    "\n",
    "grades = np.array([5, 4, 3, 5, 2])\n",
    "genders = np.array([\"female\", \"male\", \"male\", \"female\", \"male\"])\n",
    "\n",
    "print(f'#5 {mean_by_gender(grades, genders)}')"
   ]
  },
  {
   "cell_type": "code",
   "execution_count": null,
   "metadata": {},
   "outputs": [],
   "source": [
    "#task6\n",
    "\n",
    "def calculate_tax(income):\n",
    "    pass\n",
    "\n",
    "    \n",
    "\n",
    "\n",
    "\n",
    "\n",
    "income = np.array([150] * 12)\n",
    "print(f'#6 {calculate_tax(income)}')"
   ]
  }
 ],
 "metadata": {
  "kernelspec": {
   "display_name": "Python 3",
   "language": "python",
   "name": "python3"
  },
  "language_info": {
   "codemirror_mode": {
    "name": "ipython",
    "version": 3
   },
   "file_extension": ".py",
   "mimetype": "text/x-python",
   "name": "python",
   "nbconvert_exporter": "python",
   "pygments_lexer": "ipython3",
   "version": "3.13.0"
  }
 },
 "nbformat": 4,
 "nbformat_minor": 2
}
