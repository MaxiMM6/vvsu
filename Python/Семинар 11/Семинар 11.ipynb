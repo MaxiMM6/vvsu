{
 "cells": [
  {
   "cell_type": "code",
   "execution_count": 1,
   "metadata": {},
   "outputs": [],
   "source": [
    "import numpy as np"
   ]
  },
  {
   "cell_type": "code",
   "execution_count": 2,
   "metadata": {},
   "outputs": [
    {
     "name": "stdout",
     "output_type": "stream",
     "text": [
      "#1 [2 4 6 8]\n"
     ]
    }
   ],
   "source": [
    "#task1\n",
    "\n",
    "def double_this(arr):\n",
    "    return arr * 2\n",
    "\n",
    "arr = np.array([1, 2, 3, 4])\n",
    "print(f'#1 {double_this(arr)}')"
   ]
  },
  {
   "cell_type": "code",
   "execution_count": 3,
   "metadata": {},
   "outputs": [
    {
     "name": "stdout",
     "output_type": "stream",
     "text": [
      "#2 [2 4]\n"
     ]
    }
   ],
   "source": [
    "#task2\n",
    "\n",
    "def select_even(arr):\n",
    "    return arr[ arr % 2 == 0 ]\n",
    "\n",
    "arr = np.array([1, 2, 3, 4])\n",
    "print(f'#2 {select_even(arr)}')"
   ]
  },
  {
   "cell_type": "code",
   "execution_count": 4,
   "metadata": {},
   "outputs": [
    {
     "ename": "_IncompleteInputError",
     "evalue": "incomplete input (657572498.py, line 3)",
     "output_type": "error",
     "traceback": [
      "\u001b[1;36m  Cell \u001b[1;32mIn[4], line 3\u001b[1;36m\u001b[0m\n\u001b[1;33m    def wipe_even(arr, target_value, in_place):\u001b[0m\n\u001b[1;37m                                               ^\u001b[0m\n\u001b[1;31m_IncompleteInputError\u001b[0m\u001b[1;31m:\u001b[0m incomplete input\n"
     ]
    }
   ],
   "source": [
    "#task3\n",
    "\n",
    "def wipe_even(arr, target_value, in_place):"
   ]
  },
  {
   "cell_type": "code",
   "execution_count": 5,
   "metadata": {},
   "outputs": [
    {
     "name": "stdout",
     "output_type": "stream",
     "text": [
      "#4.1 8.0\n",
      "#4.2 8.0\n"
     ]
    }
   ],
   "source": [
    "#task4\n",
    "\n",
    "def weighted_sum(weights, grades, normalize):\n",
    "    return np.dot(grades, weights)\n",
    "\n",
    "\n",
    "#1\n",
    "grades = np.array([7, 9, 8])\n",
    "weights = np.array([0.3, 0.3, 0.4])\n",
    "normalize = True\n",
    "\n",
    "print(f'#4.1 {weighted_sum(weights, grades, normalize)}')\n",
    "\n",
    "#2\n",
    "grades = np.array([7, 9, 8])\n",
    "weights = np.array([0.3, 0.3, 0.4])\n",
    "normalize = False\n",
    "\n",
    "print(f'#4.2 {weighted_sum(weights, grades, normalize)}')"
   ]
  },
  {
   "cell_type": "code",
   "execution_count": null,
   "metadata": {},
   "outputs": [
    {
     "ename": "TypeError",
     "evalue": "iteration over a 0-d array",
     "output_type": "error",
     "traceback": [
      "\u001b[1;31m---------------------------------------------------------------------------\u001b[0m",
      "\u001b[1;31mTypeError\u001b[0m                                 Traceback (most recent call last)",
      "Cell \u001b[1;32mIn[18], line 10\u001b[0m\n\u001b[0;32m      8\u001b[0m grades \u001b[38;5;241m=\u001b[39m np\u001b[38;5;241m.\u001b[39marray([\u001b[38;5;241m5\u001b[39m, \u001b[38;5;241m4\u001b[39m, \u001b[38;5;241m3\u001b[39m, \u001b[38;5;241m5\u001b[39m, \u001b[38;5;241m2\u001b[39m])\n\u001b[0;32m      9\u001b[0m genders \u001b[38;5;241m=\u001b[39m np\u001b[38;5;241m.\u001b[39marray([\u001b[38;5;124m\"\u001b[39m\u001b[38;5;124mfemale\u001b[39m\u001b[38;5;124m\"\u001b[39m, \u001b[38;5;124m\"\u001b[39m\u001b[38;5;124mmale\u001b[39m\u001b[38;5;124m\"\u001b[39m,\u001b[38;5;124m\"\u001b[39m\u001b[38;5;124mmale\u001b[39m\u001b[38;5;124m\"\u001b[39m, \u001b[38;5;124m\"\u001b[39m\u001b[38;5;124mfemale\u001b[39m\u001b[38;5;124m\"\u001b[39m, \u001b[38;5;124m\"\u001b[39m\u001b[38;5;124mmale\u001b[39m\u001b[38;5;124m\"\u001b[39m])\n\u001b[1;32m---> 10\u001b[0m \u001b[38;5;28mprint\u001b[39m(\u001b[38;5;124mf\u001b[39m\u001b[38;5;124m'\u001b[39m\u001b[38;5;124m#5 \u001b[39m\u001b[38;5;132;01m{\u001b[39;00m\u001b[43mmean_by_gender\u001b[49m\u001b[43m(\u001b[49m\u001b[43mgrades\u001b[49m\u001b[43m,\u001b[49m\u001b[38;5;250;43m \u001b[39;49m\u001b[43mgenders\u001b[49m\u001b[43m)\u001b[49m\u001b[38;5;132;01m}\u001b[39;00m\u001b[38;5;124m'\u001b[39m)\n",
      "Cell \u001b[1;32mIn[18], line 6\u001b[0m, in \u001b[0;36mmean_by_gender\u001b[1;34m(grades, genders)\u001b[0m\n\u001b[0;32m      3\u001b[0m \u001b[38;5;28;01mdef\u001b[39;00m \u001b[38;5;21mmean_by_gender\u001b[39m(grades, genders):\n\u001b[0;32m      4\u001b[0m     grades_mean \u001b[38;5;241m=\u001b[39m np\u001b[38;5;241m.\u001b[39marray(np\u001b[38;5;241m.\u001b[39mmean(grades))\n\u001b[1;32m----> 6\u001b[0m     \u001b[38;5;28;01mreturn\u001b[39;00m \u001b[38;5;28mdict\u001b[39m(\u001b[38;5;28;43mzip\u001b[39;49m\u001b[43m(\u001b[49m\u001b[43mgenders\u001b[49m\u001b[43m,\u001b[49m\u001b[43m \u001b[49m\u001b[43mgrades_mean\u001b[49m\u001b[43m)\u001b[49m)\n",
      "\u001b[1;31mTypeError\u001b[0m: iteration over a 0-d array"
     ]
    }
   ],
   "source": [
    "#task5\n",
    "\n",
    "def mean_by_gender(grades, genders):\n",
    "    \n",
    "\n",
    "\n",
    "\n",
    "grades = np.array([5, 4, 3, 5, 2])\n",
    "genders = np.array([\"female\", \"male\", \"male\", \"female\", \"male\"])\n",
    "\n",
    "print(f'#5 {mean_by_gender(grades, genders)}')"
   ]
  },
  {
   "cell_type": "code",
   "execution_count": null,
   "metadata": {},
   "outputs": [],
   "source": [
    "#task6\n",
    "\n"
   ]
  }
 ],
 "metadata": {
  "kernelspec": {
   "display_name": "Python 3",
   "language": "python",
   "name": "python3"
  },
  "language_info": {
   "codemirror_mode": {
    "name": "ipython",
    "version": 3
   },
   "file_extension": ".py",
   "mimetype": "text/x-python",
   "name": "python",
   "nbconvert_exporter": "python",
   "pygments_lexer": "ipython3",
   "version": "3.13.0"
  }
 },
 "nbformat": 4,
 "nbformat_minor": 2
}
