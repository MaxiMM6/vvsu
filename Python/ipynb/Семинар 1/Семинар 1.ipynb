{
 "cells": [
  {
   "cell_type": "code",
   "execution_count": 1,
   "metadata": {},
   "outputs": [
    {
     "name": "stdout",
     "output_type": "stream",
     "text": [
      "1 9 127\n",
      "[1, 0, 9, 12, 18, 34, 89, 91, 33, 127, 2, 8, 9, 11, 8, 25, 44, 7]\n",
      "[1, 0, 9, 12, 18, 34, 89, 91, 33, 100]\n"
     ]
    }
   ],
   "source": [
    "#task0\n",
    "\n",
    "a = [1, 0, 9, 12, 18, 34, 89, 91, 33, 127]\n",
    "b = [2, 8, 9, 11, 76, 25, 44]\n",
    "\n",
    "print(a[0], a[2], a[-1])\n",
    "\n",
    "b.append(7)\n",
    "\n",
    "b[4] = 8\n",
    "\n",
    "merged = a + b\n",
    "print(merged)\n",
    "\n",
    "c = a[:-1]\n",
    "c.append(100)\n",
    "print(c)"
   ]
  },
  {
   "cell_type": "code",
   "execution_count": 2,
   "metadata": {},
   "outputs": [
    {
     "name": "stdout",
     "output_type": "stream",
     "text": [
      "['Виолетта', 'Кассандра', 'Вирджиния', 'Амелия']\n",
      "['Вирджиния', 'Амелия', 'Розамунда', 'Янина', 'Беатриса']\n",
      "['Иветта', 'Виолетта', 'Кассандра', 'Вирджиния', 'Амелия']\n",
      "['Кассандра'] [['Амелия', 'Розамунда']]\n"
     ]
    }
   ],
   "source": [
    "#task1\n",
    "\n",
    "girls = [\"Иветта\", \"Виолетта\", \"Кассандра\", \"Вирджиния\", \"Амелия\", \"Розамунда\", \"Янина\"]\n",
    "girls.append(\"Беатриса\")\n",
    "print(girls[1:5])\n",
    "print(girls[3:])\n",
    "print(girls[:5])\n",
    "print([girls[2]], [girls[4:6]])"
   ]
  },
  {
   "cell_type": "code",
   "execution_count": 3,
   "metadata": {},
   "outputs": [
    {
     "name": "stdout",
     "output_type": "stream",
     "text": [
      "[12, 3, 8, 125, 10, 98, 54, 199]\n",
      "[1.0791812460476249, 0.47712125471966244, 0.9030899869919435, 2.0969100130080562, 1.0, 1.9912260756924949, 1.7323937598229686, 2.298853076409707]\n",
      "[12, 3, 8, 125, 0, 98, 54, 199]\n"
     ]
    },
    {
     "ename": "ValueError",
     "evalue": "math domain error",
     "output_type": "error",
     "traceback": [
      "\u001b[1;31m---------------------------------------------------------------------------\u001b[0m",
      "\u001b[1;31mValueError\u001b[0m                                Traceback (most recent call last)",
      "Cell \u001b[1;32mIn[3], line 11\u001b[0m\n\u001b[0;32m      9\u001b[0m l[\u001b[38;5;241m4\u001b[39m] \u001b[38;5;241m=\u001b[39m \u001b[38;5;241m0\u001b[39m\n\u001b[0;32m     10\u001b[0m \u001b[38;5;28mprint\u001b[39m(l)\n\u001b[1;32m---> 11\u001b[0m \u001b[38;5;28mprint\u001b[39m([\u001b[43mmath\u001b[49m\u001b[38;5;241;43m.\u001b[39;49m\u001b[43mlog\u001b[49m\u001b[43m(\u001b[49m\u001b[43mx\u001b[49m\u001b[43m)\u001b[49m \u001b[38;5;28;01mfor\u001b[39;00m x \u001b[38;5;129;01min\u001b[39;00m l])\n",
      "\u001b[1;31mValueError\u001b[0m: math domain error"
     ]
    }
   ],
   "source": [
    "#task2\n",
    "\n",
    "l = [12, 3, 8, 125, 10, 98, 54, 199]\n",
    "\n",
    "import math\n",
    "print(l)\n",
    "print([math.log10(x) for x in l])\n",
    "\n",
    "l[4] = 0\n",
    "print(l)\n",
    "print([math.log(x) for x in l])"
   ]
  },
  {
   "cell_type": "code",
   "execution_count": 4,
   "metadata": {},
   "outputs": [
    {
     "name": "stdout",
     "output_type": "stream",
     "text": [
      "[576, 1225, 1764, 729, 2025, 2304, 1089]\n"
     ]
    }
   ],
   "source": [
    "#task3\n",
    "\n",
    "age = [24, 35, 42, 27, 45, 48, 33]\n",
    "\n",
    "age2 = [i**2 for i in age]\n",
    "print(age2)"
   ]
  },
  {
   "cell_type": "code",
   "execution_count": 5,
   "metadata": {},
   "outputs": [
    {
     "name": "stdout",
     "output_type": "stream",
     "text": [
      "6\n"
     ]
    }
   ],
   "source": [
    "#task4\n",
    "\n",
    "numbers = [1, 5, 6, 8, 10, 21, 25, 1, 0, -9, 9]\n",
    "\n",
    "num = int(input(\"Введите целое число от 1 до 10: \"))\n",
    "\n",
    "result = numbers[num - 1]\n",
    "print(result)"
   ]
  },
  {
   "cell_type": "code",
   "execution_count": 6,
   "metadata": {},
   "outputs": [
    {
     "name": "stdout",
     "output_type": "stream",
     "text": [
      "5\n",
      "3\n",
      "5\n",
      "7\n"
     ]
    }
   ],
   "source": [
    "#task5\n",
    "\n",
    "l = [1,2,3,4]\n",
    "for i in range(len(l)):\n",
    "    a = l[i] + l[i-1]\n",
    "    print(a)"
   ]
  }
 ],
 "metadata": {
  "kernelspec": {
   "display_name": "Python 3",
   "language": "python",
   "name": "python3"
  },
  "language_info": {
   "codemirror_mode": {
    "name": "ipython",
    "version": 3
   },
   "file_extension": ".py",
   "mimetype": "text/x-python",
   "name": "python",
   "nbconvert_exporter": "python",
   "pygments_lexer": "ipython3",
   "version": "3.12.6"
  }
 },
 "nbformat": 4,
 "nbformat_minor": 2
}
