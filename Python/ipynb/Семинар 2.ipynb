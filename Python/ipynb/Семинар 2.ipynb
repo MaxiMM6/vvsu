{
 "cells": [
  {
   "cell_type": "code",
   "execution_count": null,
   "metadata": {},
   "outputs": [],
   "source": [
    "#task1\n",
    "\n",
    "fio = input(\"Введите Ваши ФИО: \")\n",
    "\n",
    "surname, name, patronymic = fio.split()\n",
    "\n",
    "print(f\"Ваша фамилия: {surname}\")\n",
    "print(f\"Ваше имя: {name}\")\n",
    "print(f\"Ваше отчество: {patronymic}\")"
   ]
  },
  {
   "cell_type": "code",
   "execution_count": null,
   "metadata": {},
   "outputs": [],
   "source": [
    "#task2  \n",
    "\n",
    "a = \"1; 2; 3; 100\"\n",
    "\n",
    "a_list = a.split(\"; \")\n",
    "a_int = []\n",
    "\n",
    "a_list = [a_int.append(int(n)) for n in a_list]\n",
    "print(a_int)\n",
    "\n",
    "a_float = [float(i) for i in a_int]\n",
    "print(a_float)"
   ]
  },
  {
   "cell_type": "code",
   "execution_count": null,
   "metadata": {},
   "outputs": [],
   "source": [
    "#task3\n",
    "\n",
    "a = input(\"Введите номер телефона через дефис: \")\n",
    "\n",
    "b = a.replace(\"-\", \"\")\n",
    "\n",
    "print(b)"
   ]
  },
  {
   "cell_type": "code",
   "execution_count": null,
   "metadata": {},
   "outputs": [],
   "source": [
    "#task4 \n",
    "\n",
    "import math\n",
    "\n",
    "dohod = input(\"Введите доходы через пробел: \").split()\n",
    "\n",
    "l = [int(i) for i in dohod]\n",
    "\n",
    "l_log = [math.log10(x) for x in l]\n",
    "\n",
    "print(l_log)"
   ]
  },
  {
   "cell_type": "code",
   "execution_count": null,
   "metadata": {},
   "outputs": [],
   "source": [
    "#task5\n",
    "\n",
    "words = [\"Speak \",\"to\", \"me \", \"of\", \"Florence\", \"And \", \"of\", \"the\", \"Renaissance\"]\n",
    "\n",
    "words_clean = [i.strip().lower() for i in words]\n",
    "\n",
    "print(words_clean)"
   ]
  }
 ],
 "metadata": {
  "language_info": {
   "name": "python"
  }
 },
 "nbformat": 4,
 "nbformat_minor": 2
}
