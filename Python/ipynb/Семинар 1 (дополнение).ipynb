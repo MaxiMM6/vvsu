{
 "cells": [
  {
   "cell_type": "code",
   "execution_count": null,
   "metadata": {},
   "outputs": [],
   "source": [
    "#task1\n",
    "\n",
    "day = int(input(\"Укажите день: \"))\n",
    "minutes = (day - 1) * 3 + 1\n",
    "\n",
    "print(f\"В день #{day}: {minutes} минут/ы.\")"
   ]
  },
  {
   "cell_type": "code",
   "execution_count": null,
   "metadata": {},
   "outputs": [],
   "source": [
    "#task2\n",
    "\n",
    "user_name = input(\"Введите: Имя, Фамилию: \")\n",
    "print(f\"{user_name}, добро пожаловать!\")"
   ]
  },
  {
   "cell_type": "code",
   "execution_count": null,
   "metadata": {},
   "outputs": [],
   "source": [
    "#task3\n",
    "\n",
    "course_1 = input(\"Введите название 1 курса: \")\n",
    "course_2 = input(\"Введите название 2 курса: \")\n",
    "course_3 = input(\"Введите название 3 курса: \")\n",
    "\n",
    "print('Рецепт')\n",
    "print(f'{course_1}: 200 г')\n",
    "print(f'{course_2}: 300 г')\n",
    "print(f'{course_3}: 100 г')\n",
    "print('Приправить политической историей. Добавить математические модели по вкусу.')"
   ]
  },
  {
   "cell_type": "code",
   "execution_count": null,
   "metadata": {},
   "outputs": [],
   "source": [
    "#task4\n",
    "\n",
    "course1 = float(input(\"Введите массу политической теории в граммах: \"))\n",
    "course2 = float(input(\"Введите массу истории политических учений в граммах: \"))\n",
    "course3 = float(input(\"Введите массу математики в граммах: \"))\n",
    "\n",
    "course1_kg = float(course1 / 1000)\n",
    "course2_kg = float(course2 / 1000)\n",
    "course3_kg = float(course3 / 1000)\n",
    "\n",
    "print('Рецепт')\n",
    "\n",
    "print('Политическая теория: %.3f кг' % (course1_kg))\n",
    "print('история политических учений: %.3f кг' % course2_kg)\n",
    "print('Математика: %.3f кг' % (course3_kg)) \n",
    "\n",
    "print('Приправить политической историей. Добавить математические модели по вкусу.')"
   ]
  },
  {
   "cell_type": "markdown",
   "metadata": {},
   "source": []
  }
 ],
 "metadata": {
  "language_info": {
   "name": "python"
  }
 },
 "nbformat": 4,
 "nbformat_minor": 2
}
