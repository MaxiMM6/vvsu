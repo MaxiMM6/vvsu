{
 "cells": [
  {
   "cell_type": "code",
   "execution_count": 1,
   "metadata": {},
   "outputs": [],
   "source": [
    "import pandas as pd\n",
    "import os\n",
    "import matplotlib\n",
    "\n",
    "os.chdir(r'C:\\Users\\zhlya\\Documents\\GitHub/vvsu/Python/py/Семинар 9')"
   ]
  },
  {
   "cell_type": "code",
   "execution_count": null,
   "metadata": {},
   "outputs": [],
   "source": [
    "#task1-2\n",
    "df = pd.read_csv('Titanic.csv', index_col = 'PassengerId')"
   ]
  },
  {
   "cell_type": "code",
   "execution_count": null,
   "metadata": {},
   "outputs": [],
   "source": [
    "#task3\n",
    "df = df.dropna()"
   ]
  },
  {
   "cell_type": "code",
   "execution_count": 4,
   "metadata": {},
   "outputs": [
    {
     "name": "stdout",
     "output_type": "stream",
     "text": [
      "<class 'pandas.core.frame.DataFrame'>\n",
      "Index: 183 entries, 2 to 890\n",
      "Data columns (total 11 columns):\n",
      " #   Column    Non-Null Count  Dtype  \n",
      "---  ------    --------------  -----  \n",
      " 0   Survived  183 non-null    int64  \n",
      " 1   Pclass    183 non-null    int64  \n",
      " 2   Name      183 non-null    object \n",
      " 3   Sex       183 non-null    object \n",
      " 4   Age       183 non-null    float64\n",
      " 5   SibSp     183 non-null    int64  \n",
      " 6   Parch     183 non-null    int64  \n",
      " 7   Ticket    183 non-null    object \n",
      " 8   Fare      183 non-null    float64\n",
      " 9   Cabin     183 non-null    object \n",
      " 10  Embarked  183 non-null    object \n",
      "dtypes: float64(2), int64(4), object(5)\n",
      "memory usage: 17.2+ KB\n",
      "None\n"
     ]
    }
   ],
   "source": [
    "#task4\n",
    "print(df.info())"
   ]
  },
  {
   "cell_type": "code",
   "execution_count": 5,
   "metadata": {},
   "outputs": [
    {
     "name": "stdout",
     "output_type": "stream",
     "text": [
      "         Survived      Pclass         Age       SibSp       Parch        Fare\n",
      "count  183.000000  183.000000  183.000000  183.000000  183.000000  183.000000\n",
      "mean     0.672131    1.191257   35.674426    0.464481    0.475410   78.682469\n",
      "std      0.470725    0.515187   15.643866    0.644159    0.754617   76.347843\n",
      "min      0.000000    1.000000    0.920000    0.000000    0.000000    0.000000\n",
      "25%      0.000000    1.000000   24.000000    0.000000    0.000000   29.700000\n",
      "50%      1.000000    1.000000   36.000000    0.000000    0.000000   57.000000\n",
      "75%      1.000000    1.000000   47.500000    1.000000    1.000000   90.000000\n",
      "max      1.000000    3.000000   80.000000    3.000000    4.000000  512.329200\n"
     ]
    }
   ],
   "source": [
    "#task5\n",
    "print(df.describe())"
   ]
  },
  {
   "cell_type": "code",
   "execution_count": 6,
   "metadata": {},
   "outputs": [
    {
     "name": "stdout",
     "output_type": "stream",
     "text": [
      "Axes(0.125,0.11;0.775x0.77)\n"
     ]
    },
    {
     "data": {
      "image/png": "[encoded data removed]",
      "text/plain": [
       "<Figure size 640x480 with 1 Axes>"
      ]
     },
     "metadata": {},
     "output_type": "display_data"
    }
   ],
   "source": [
    "#task6\n",
    "print(df['Age'].plot.hist(color = \"red\"))"
   ]
  },
  {
   "cell_type": "code",
   "execution_count": 26,
   "metadata": {},
   "outputs": [
    {
     "data": {
      "text/plain": [
       "count    183.000000\n",
       "mean      78.682469\n",
       "std       76.347843\n",
       "min        0.000000\n",
       "25%       29.700000\n",
       "50%       57.000000\n",
       "75%       90.000000\n",
       "max      512.329200\n",
       "Name: Fare, dtype: float64"
      ]
     },
     "execution_count": 26,
     "metadata": {},
     "output_type": "execute_result"
    }
   ],
   "source": [
    "#task7\n",
    "df['Fare'].describe()"
   ]
  },
  {
   "cell_type": "code",
   "execution_count": null,
   "metadata": {},
   "outputs": [
    {
     "name": "stdout",
     "output_type": "stream",
     "text": [
      "['Survived', 'Pclass', 'Name', 'Sex', 'Age', 'SibSp', 'Parch', 'Ticket', 'Fare', 'Cabin', 'Embarked']\n"
     ]
    }
   ],
   "source": [
    "#task8\n",
    "columns_list = list(df.columns)\n",
    "print(columns_list)"
   ]
  },
  {
   "cell_type": "code",
   "execution_count": 9,
   "metadata": {},
   "outputs": [
    {
     "name": "stdout",
     "output_type": "stream",
     "text": [
      "Index(['Survived', 'Class', 'Name', 'Sex', 'Age', 'SibSp', 'Parch', 'Ticket',\n",
      "       'Fare', 'Cabin', 'Embarked'],\n",
      "      dtype='object')\n"
     ]
    }
   ],
   "source": [
    "#task9\n",
    "columns_list[1] = 'Class'\n",
    "df.columns = columns_list\n",
    "print(df.columns)"
   ]
  },
  {
   "cell_type": "code",
   "execution_count": 27,
   "metadata": {},
   "outputs": [
    {
     "name": "stdout",
     "output_type": "stream",
     "text": [
      "             Survived  Class  \\\n",
      "PassengerId                    \n",
      "2                   1      1   \n",
      "4                   1      1   \n",
      "11                  1      3   \n",
      "12                  1      1   \n",
      "53                  1      1   \n",
      "...               ...    ...   \n",
      "854                 1      1   \n",
      "863                 1      1   \n",
      "872                 1      1   \n",
      "880                 1      1   \n",
      "888                 1      1   \n",
      "\n",
      "                                                          Name     Sex   Age  \\\n",
      "PassengerId                                                                    \n",
      "2            Cumings, Mrs. John Bradley (Florence Briggs Th...  female  38.0   \n",
      "4                 Futrelle, Mrs. Jacques Heath (Lily May Peel)  female  35.0   \n",
      "11                             Sandstrom, Miss. Marguerite Rut  female   4.0   \n",
      "12                                    Bonnell, Miss. Elizabeth  female  58.0   \n",
      "53                    Harper, Mrs. Henry Sleeper (Myna Haxtun)  female  49.0   \n",
      "...                                                        ...     ...   ...   \n",
      "854                                  Lines, Miss. Mary Conover  female  16.0   \n",
      "863          Swift, Mrs. Frederick Joel (Margaret Welles Ba...  female  48.0   \n",
      "872           Beckwith, Mrs. Richard Leonard (Sallie Monypeny)  female  47.0   \n",
      "880              Potter, Mrs. Thomas Jr (Lily Alexenia Wilson)  female  56.0   \n",
      "888                               Graham, Miss. Margaret Edith  female  19.0   \n",
      "\n",
      "             SibSp  Parch    Ticket     Fare Cabin Embarked  \n",
      "PassengerId                                                  \n",
      "2                1      0  PC 17599  71.2833   C85        C  \n",
      "4                1      0    113803  53.1000  C123        S  \n",
      "11               1      1   PP 9549  16.7000    G6        S  \n",
      "12               0      0    113783  26.5500  C103        S  \n",
      "53               1      0  PC 17572  76.7292   D33        C  \n",
      "...            ...    ...       ...      ...   ...      ...  \n",
      "854              0      1  PC 17592  39.4000   D28        S  \n",
      "863              0      0     17466  25.9292   D17        S  \n",
      "872              1      1     11751  52.5542   D35        S  \n",
      "880              0      1     11767  83.1583   C50        C  \n",
      "888              0      0    112053  30.0000   B42        S  \n",
      "\n",
      "[88 rows x 11 columns]\n"
     ]
    }
   ],
   "source": [
    "#task10\n",
    "print(df[df['Sex'] == 'female'])"
   ]
  },
  {
   "cell_type": "code",
   "execution_count": null,
   "metadata": {},
   "outputs": [],
   "source": [
    "#task11\n",
    "Ymale = df[(df['Survived'] == 1) & (df['Sex'] == 'male') & (df['Age'] < 32)]"
   ]
  },
  {
   "cell_type": "code",
   "execution_count": null,
   "metadata": {},
   "outputs": [],
   "source": [
    "#task12\n",
    "class_1_2 = df[(df['Class'] == 1) | (df['Class'] == 2)]"
   ]
  },
  {
   "cell_type": "code",
   "execution_count": 28,
   "metadata": {},
   "outputs": [],
   "source": [
    "#task13\n",
    "class_1_2_surv = df[(df['Survived'] == 1) & ((df['Class'] == 1) | (df['Class'] == 2))]"
   ]
  },
  {
   "cell_type": "code",
   "execution_count": null,
   "metadata": {},
   "outputs": [],
   "source": [
    "#task14"
   ]
  }
 ],
 "metadata": {
  "kernelspec": {
   "display_name": "Python 3",
   "language": "python",
   "name": "python3"
  },
  "language_info": {
   "codemirror_mode": {
    "name": "ipython",
    "version": 3
   },
   "file_extension": ".py",
   "mimetype": "text/x-python",
   "name": "python",
   "nbconvert_exporter": "python",
   "pygments_lexer": "ipython3",
   "version": "3.13.0"
  }
 },
 "nbformat": 4,
 "nbformat_minor": 2
}
