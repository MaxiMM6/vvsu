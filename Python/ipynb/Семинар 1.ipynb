{
 "cells": [
  {
   "cell_type": "code",
   "execution_count": null,
   "metadata": {},
   "outputs": [],
   "source": [
    "#task0\n",
    "\n",
    "a = [1, 0, 9, 12, 18, 34, 89, 91, 33, 127]\n",
    "b = [2, 8, 9, 11, 76, 25, 44]\n",
    "\n",
    "print(a[0], a[2], a[-1])\n",
    "\n",
    "b.append(7)\n",
    "\n",
    "b[4] = 8\n",
    "\n",
    "merged = a + b\n",
    "print(merged)\n",
    "\n",
    "c = a[:-1]\n",
    "c.append(100)\n",
    "print(c)"
   ]
  },
  {
   "cell_type": "code",
   "execution_count": null,
   "metadata": {},
   "outputs": [],
   "source": [
    "#task1\n",
    "\n",
    "girls = [\"Иветта\", \"Виолетта\", \"Кассандра\", \"Вирджиния\", \"Амелия\", \"Розамунда\", \"Янина\"]\n",
    "girls.append(\"Беатриса\")\n",
    "print(girls[1:5])\n",
    "print(girls[3:])\n",
    "print(girls[:5])\n",
    "print([girls[2]], [girls[4:6]])"
   ]
  },
  {
   "cell_type": "code",
   "execution_count": null,
   "metadata": {},
   "outputs": [],
   "source": [
    "#task2\n",
    "\n",
    "l = [12, 3, 8, 125, 10, 98, 54, 199]\n",
    "\n",
    "import math\n",
    "print(l)\n",
    "print([math.log10(x) for x in l])\n",
    "\n",
    "l[4] = 0\n",
    "print(l)\n",
    "print([math.log(x) for x in l])"
   ]
  },
  {
   "cell_type": "code",
   "execution_count": null,
   "metadata": {},
   "outputs": [],
   "source": [
    "#task3\n",
    "\n",
    "age = [24, 35, 42, 27, 45, 48, 33]\n",
    "\n",
    "age2 = [i**2 for i in age]\n",
    "print(age2)"
   ]
  },
  {
   "cell_type": "code",
   "execution_count": null,
   "metadata": {},
   "outputs": [],
   "source": [
    "#task4\n",
    "\n",
    "numbers = [1, 5, 6, 8, 10, 21, 25, 1, 0, -9, 9]\n",
    "\n",
    "num = int(input(\"Введите целое число от 1 до 10: \"))\n",
    "\n",
    "result = numbers[num - 1]\n",
    "print(result)"
   ]
  },
  {
   "cell_type": "code",
   "execution_count": null,
   "metadata": {},
   "outputs": [],
   "source": [
    "#task5\n",
    "\n",
    "l = [1,2,3,4]\n",
    "for i in range(len(l)):\n",
    "    a = l[i] + l[i-1]\n",
    "    print(a)"
   ]
  }
 ],
 "metadata": {
  "language_info": {
   "name": "python"
  }
 },
 "nbformat": 4,
 "nbformat_minor": 2
}
