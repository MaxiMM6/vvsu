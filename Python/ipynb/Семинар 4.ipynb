{
 "cells": [
  {
   "cell_type": "code",
   "execution_count": 10,
   "metadata": {},
   "outputs": [
    {
     "name": "stdout",
     "output_type": "stream",
     "text": [
      "{'python': ' питон', 'anaconda': 'анаконда', 'snake': 'змея', 'tortoise': ' черепаха'}\n",
      " питон по-английски будет python\n",
      "анаконда по-английски будет anaconda\n",
      "змея по-английски будет snake\n",
      " черепаха по-английски будет tortoise\n"
     ]
    }
   ],
   "source": [
    "#task1\n",
    "\n",
    "rept = {\"python\" : \" питон\",\n",
    "        \"anaconda\" : \"анаконда\",\n",
    "        \"tortoize\" : \" черепаха\"}\n",
    "\n",
    "rept['snake'] = 'змея'\n",
    "rept['tortoise'] = rept['tortoize']\n",
    "rept.pop('tortoize')\n",
    "\n",
    "print(rept)\n",
    "\n",
    "for k, v in rept.items():\n",
    "    print(f'{v} по-английски будет {k}')"
   ]
  },
  {
   "cell_type": "code",
   "execution_count": 11,
   "metadata": {},
   "outputs": [
    {
     "name": "stdout",
     "output_type": "stream",
     "text": [
      "{'Andorra': 1.0, 'Belarus': 6.0, 'Denmark': 1.0, 'Kenya': 4.0, 'Jamaica': 2.5, 'Romania': 2.0}\n"
     ]
    }
   ],
   "source": [
    "#task2\n",
    "\n",
    "cnt = [\"Andorra\", \"Belarus\", \"Denmark\",\n",
    "       \"Kenya\", \"Jamaica\", \"Romania\"]\n",
    "fh = [1.0, 6.0, 1.0, 4.0, 2.5, 2.0]\n",
    "dict = {}\n",
    "\n",
    "for i in range(len(cnt)):\n",
    "    dict[cnt[i]] = fh[i]\n",
    "    \n",
    "print(dict)"
   ]
  },
  {
   "cell_type": "code",
   "execution_count": 12,
   "metadata": {},
   "outputs": [
    {
     "name": "stdout",
     "output_type": "stream",
     "text": [
      "{(2, 4): 8, (4, 6): 24, (0, 1): 0, (5, 2): 10, (9, 1): 9, (3, 8): 24}\n"
     ]
    }
   ],
   "source": [
    "#task3\n",
    "\n",
    "pairs = [(2, 4), (4, 6), (0, 1), (5, 2), (9, 1), (3, 8)]\n",
    "\n",
    "calc = {}\n",
    "\n",
    "for i in pairs:\n",
    "    calc[i] = i[0] * i[1]\n",
    "\n",
    "print(calc)"
   ]
  }
 ],
 "metadata": {
  "kernelspec": {
   "display_name": "Python 3",
   "language": "python",
   "name": "python3"
  },
  "language_info": {
   "codemirror_mode": {
    "name": "ipython",
    "version": 3
   },
   "file_extension": ".py",
   "mimetype": "text/x-python",
   "name": "python",
   "nbconvert_exporter": "python",
   "pygments_lexer": "ipython3",
   "version": "3.13.0"
  }
 },
 "nbformat": 4,
 "nbformat_minor": 2
}
