{
 "cells": [
  {
   "cell_type": "code",
   "execution_count": 2,
   "metadata": {},
   "outputs": [
    {
     "name": "stdout",
     "output_type": "stream",
     "text": [
      "Квадрат числа 5 равен: 25\n"
     ]
    }
   ],
   "source": [
    "#task1\n",
    "\n",
    "def square(n):\n",
    "    return n ** 2\n",
    "\n",
    "n = int(input('Введите число: '))\n",
    "\n",
    "print(f'Квадрат числа {n} равен: {square(n)}')"
   ]
  },
  {
   "cell_type": "code",
   "execution_count": 4,
   "metadata": {},
   "outputs": [
    {
     "name": "stdout",
     "output_type": "stream",
     "text": [
      "7\n",
      "[6, 8]\n"
     ]
    }
   ],
   "source": [
    "#task2\n",
    "\n",
    "def nums():\n",
    "    return [n - 1, n + 1]\n",
    "\n",
    "n = int(input('Введите число: '))\n",
    "result = nums()\n",
    "\n",
    "print(n)\n",
    "print(result)"
   ]
  },
  {
   "cell_type": "code",
   "execution_count": 23,
   "metadata": {},
   "outputs": [
    {
     "name": "stdout",
     "output_type": "stream",
     "text": [
      "В лесу родилась ёлочка В лесу она росла\n",
      "[['в', 'лесу', 'родилась', 'ёлочка', 'в', 'лесу', 'она', 'росла']]\n"
     ]
    }
   ],
   "source": [
    "#task3\n",
    "\n",
    "def str_lower():\n",
    "    return [string.lower().split()]\n",
    "\n",
    "string = input('Введите строку: ')\n",
    "\n",
    "result = str_lower()\n",
    "\n",
    "print(string)\n",
    "print(result)"
   ]
  },
  {
   "cell_type": "code",
   "execution_count": 22,
   "metadata": {},
   "outputs": [
    {
     "name": "stdout",
     "output_type": "stream",
     "text": [
      "['1', '3', '2.5', '-1', '9', '0', '2.7']\n",
      "[0.0, 1.0986122886681098, 0.9162907318741551, 'None', 2.1972245773362196, 'None', 0.9932517730102834]\n"
     ]
    }
   ],
   "source": [
    "#task4 \n",
    "\n",
    "import math\n",
    "\n",
    "def my_log():\n",
    "    log_list = []\n",
    "\n",
    "    for num in num_list:\n",
    "        if float(num) > 0:\n",
    "            log_list.append(math.log(float(num)))\n",
    "        else:\n",
    "            log_list.append('None')\n",
    "\n",
    "    return log_list\n",
    "\n",
    "num_list = (input('Введите список чисел: ')).split(',')\n",
    "\n",
    "result = my_log()\n",
    "\n",
    "print(num_list)\n",
    "print(result)"
   ]
  },
  {
   "cell_type": "code",
   "execution_count": 13,
   "metadata": {},
   "outputs": [
    {
     "name": "stdout",
     "output_type": "stream",
     "text": [
      "{'Ann': '12', 'Tim': '23', 'Sam': '17'}\n"
     ]
    }
   ],
   "source": [
    "#task5\n",
    "\n",
    "def func():\n",
    "\n",
    "    names = input('Введите имена людей: ')\n",
    "    age = input('Введите возраст: ')\n",
    "    \n",
    "    names_list = [x for x in names.split()]\n",
    "    age_list = [x for x in age.split()]\n",
    "\n",
    "    if len(names_list) == len(age_list):\n",
    "        dict_name_age = dict(zip(names_list, age_list))\n",
    "\n",
    "        return dict_name_age\n",
    "    else:\n",
    "        print('Списки имеют разную длину.')\n",
    "        dict_name_age = {}\n",
    "\n",
    "        return dict_name_age\n",
    "    \n",
    "result = func()\n",
    "print(result)"
   ]
  },
  {
   "cell_type": "code",
   "execution_count": null,
   "metadata": {},
   "outputs": [],
   "source": [
    "#task6\n",
    "\n",
    "def binom_prob():"
   ]
  },
  {
   "cell_type": "code",
   "execution_count": 21,
   "metadata": {},
   "outputs": [
    {
     "name": "stdout",
     "output_type": "stream",
     "text": [
      "7,6,1,3,8,0,-2\n",
      "[-2, 0, 1, 3, 6, 7, 8]\n"
     ]
    }
   ],
   "source": [
    "#task7\n",
    "\n",
    "def all_sort():\n",
    "\n",
    "    \n",
    "    numbers_list = [int(x) for x in numbers.split(',')]\n",
    "\n",
    "    return sorted(numbers_list)\n",
    "\n",
    "numbers = input('Введите перечень чисел: ')\n",
    "result = all_sort()\n",
    "\n",
    "print(numbers)\n",
    "print(result)"
   ]
  }
 ],
 "metadata": {
  "kernelspec": {
   "display_name": "Python 3",
   "language": "python",
   "name": "python3"
  },
  "language_info": {
   "codemirror_mode": {
    "name": "ipython",
    "version": 3
   },
   "file_extension": ".py",
   "mimetype": "text/x-python",
   "name": "python",
   "nbconvert_exporter": "python",
   "pygments_lexer": "ipython3",
   "version": "3.13.0"
  }
 },
 "nbformat": 4,
 "nbformat_minor": 2
}
