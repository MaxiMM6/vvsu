{
 "cells": [
  {
   "cell_type": "code",
   "execution_count": 9,
   "metadata": {},
   "outputs": [
    {
     "name": "stdout",
     "output_type": "stream",
     "text": [
      "25\n",
      "Квадрат числа равен:\n",
      "Квадрат числа равен: 25\n"
     ]
    }
   ],
   "source": [
    "#task1\n",
    "\n",
    "def square(x):\n",
    "    return x ** 2\n",
    "\n",
    "print(square(5))\n",
    "  \n",
    "print(f\"Квадрат числа равен:\")\n",
    "     \n",
    "print(\"Квадрат числа равен:\", square(5))\n",
    "\n"
   ]
  },
  {
   "cell_type": "code",
   "execution_count": 4,
   "metadata": {},
   "outputs": [
    {
     "data": {
      "text/plain": [
       "[6, 8]\n"
      ]
     },
     "metadata": {},
     "output_type": "display_data"
    }
   ],
   "source": [
    "#task2\n",
    "\n",
    "def nums(n):\n",
    "    return [n - 1, n + 1]\n",
    "\n",
    "print(nums(7))\n"
   ]
  },
  {
   "cell_type": "code",
   "execution_count": 27,
   "metadata": {},
   "outputs": [
    {
     "name": "stdout",
     "output_type": "stream",
     "text": [
      "['в', 'лесу', 'родилась', 'ёлочка', 'в', 'лесу', 'она', 'росла']\n"
     ]
    }
   ],
   "source": [
    "#task3\n",
    "\n",
    "def str_lower(string):\n",
    "    return string.lower().split()\n",
    "\n",
    "print(str_lower('В лесу родилась ёлочка В лесу она росла'))"
   ]
  },
  {
   "cell_type": "code",
   "execution_count": 6,
   "metadata": {},
   "outputs": [
    {
     "name": "stdout",
     "output_type": "stream",
     "text": [
      "[0.0, 1.0986122886681098, 0.9162907318741551, 'None', 2.1972245773362196, 'None', 0.9969486348916096]\n"
     ]
    }
   ],
   "source": [
    "#task4\n",
    "\n",
    "import math\n",
    "\n",
    "def my_log(l):\n",
    "    \n",
    "    log_list = []\n",
    "\n",
    "    for num in l:\n",
    "        if num > 0:\n",
    "            log_list.append(math.log(num))\n",
    "        else:\n",
    "            log_list.append('None')\n",
    "        \n",
    "    return log_list\n",
    "\n",
    "print(my_log([1, 3, 2.5, -1, 9, 0, 2.71]))"
   ]
  },
  {
   "cell_type": "code",
   "execution_count": 2,
   "metadata": {},
   "outputs": [
    {
     "name": "stdout",
     "output_type": "stream",
     "text": [
      "{'Ann': 12, 'Tim': 23, 'Sam': 17}\n",
      "Списки имеют разную длину\n",
      "{}\n"
     ]
    }
   ],
   "source": [
    "#task5 \n",
    "\n",
    "def func(list1, list2):\n",
    "\n",
    "    new_dict = {}\n",
    "\n",
    "    if len(list1) == len(list2):\n",
    "        new_dict = dict(zip(list1, list2))\n",
    "    else:\n",
    "        print('Списки имеют разную длину')\n",
    "    \n",
    "    return new_dict\n",
    "\n",
    "print(func(['Ann', 'Tim', 'Sam'], [12, 23, 17]))\n",
    "print(func(['Ann', 'Tim', 'Sam'], [12, 23, 17, 19]))"
   ]
  },
  {
   "cell_type": "code",
   "execution_count": 6,
   "metadata": {},
   "outputs": [
    {
     "name": "stdout",
     "output_type": "stream",
     "text": [
      "0.1640625\n"
     ]
    }
   ],
   "source": [
    "#task6\n",
    "\n",
    "def fact(n):\n",
    "    f = 1\n",
    "    for i in range(2, n + 1):\n",
    "        f *= i\n",
    "    return f\n",
    "\n",
    "def binom(k, n):\n",
    "    return fact(n) // (fact(k) * fact(n - k))\n",
    "\n",
    "def binom_prob(p, n, k):\n",
    "    return binom(k,n) * (p**k) * ((1-p) ** (n-k))\n",
    "print(binom_prob(0.5,7,5))"
   ]
  },
  {
   "cell_type": "code",
   "execution_count": 26,
   "metadata": {},
   "outputs": [
    {
     "name": "stdout",
     "output_type": "stream",
     "text": [
      "[-2, 0, 1, 3, 6, 7, 8]\n"
     ]
    }
   ],
   "source": [
    "#task7\n",
    "\n",
    "def all_sort(*args):\n",
    "\n",
    "    num = [int(numbers) for numbers in args]\n",
    "\n",
    "    \n",
    "    for i in range(len(num)):\n",
    "        for x in range(0, len(num) - i - 1):\n",
    "            if num[x] > num[x + 1]:\n",
    "                num[x], num[x + 1] = num[x + 1], num[x]\n",
    "    return num\n",
    "\n",
    "print(all_sort(7,6,1,3,8,0,-2))"
   ]
  }
 ],
 "metadata": {
  "kernelspec": {
   "display_name": "Python 3",
   "language": "python",
   "name": "python3"
  },
  "language_info": {
   "codemirror_mode": {
    "name": "ipython",
    "version": 3
   },
   "file_extension": ".py",
   "mimetype": "text/x-python",
   "name": "python",
   "nbconvert_exporter": "python",
   "pygments_lexer": "ipython3",
   "version": "3.13.0"
  }
 },
 "nbformat": 4,
 "nbformat_minor": 2
}
