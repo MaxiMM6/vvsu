{
 "cells": [
  {
   "cell_type": "code",
   "execution_count": null,
   "metadata": {},
   "outputs": [],
   "source": [
    "#task1\n",
    "\n",
    "user_input = float(input())\n",
    "\n",
    "if user_input > 0:\n",
    "    print(\"Молодец!\")\n",
    "else:\n",
    "    print(\"Это не положительное число.\")"
   ]
  },
  {
   "cell_type": "code",
   "execution_count": null,
   "metadata": {},
   "outputs": [],
   "source": [
    "#task2\n",
    "\n",
    "marks = input(\"Введите оценки от 1 до 10 через пробел: \").split()\n",
    "\n",
    "marks = [int(x) for x in marks]\n",
    "\n",
    "for i in marks:\n",
    "    if 1 <= i <= 10:\n",
    "        print(i)\n",
    "        if i <= 3:\n",
    "            print(\"Плохо\")\n",
    "        elif 4 <= i <= 6:\n",
    "            print(\"Удовлетворительно\")\n",
    "        elif 7 <= i <= 9:\n",
    "            print(\"Хорошо\")\n",
    "        else:\n",
    "            print(\"Отлично\")"
   ]
  },
  {
   "cell_type": "code",
   "execution_count": null,
   "metadata": {},
   "outputs": [],
   "source": [
    "#task3\n",
    "\n",
    "user_password = input(\"Введите пароль: \")\n",
    "\n",
    "correct_password = '12345'\n",
    "\n",
    "if user_password == correct_password:\n",
    "    print('Login success')\n",
    "else:\n",
    "    print('Incorrect password, try again!')"
   ]
  },
  {
   "cell_type": "code",
   "execution_count": null,
   "metadata": {},
   "outputs": [],
   "source": [
    "#task4\n",
    "\n",
    "favorites = [3, 7, 11, 23, 18, 48, 81]\n",
    "\n",
    "integer_number = int(input(\"Введите целое число: \"))\n",
    "\n",
    "if integer_number not in favorites:\n",
    "    print('Эх, ну почему?')\n",
    "\n",
    "else:\n",
    "    print(\"Мое любимое число!\")"
   ]
  },
  {
   "cell_type": "code",
   "execution_count": null,
   "metadata": {},
   "outputs": [],
   "source": [
    "#task5\n",
    "\n",
    "user_number = int(input(\"Введите число: \"))\n",
    "\n",
    "if user_number % 2 == 0:\n",
    "    print('Это число четное')\n",
    "\n",
    "else:\n",
    "    print(\"Это число нечетное\")"
   ]
  },
  {
   "cell_type": "code",
   "execution_count": null,
   "metadata": {},
   "outputs": [],
   "source": [
    "#task6\n",
    "\n",
    "user_noun = input('Введите существительное: ')\n",
    "\n",
    "if user_noun.istitle():\n",
    "    print('Это имя собственное')\n",
    "\n",
    "else:\n",
    "    print('Это имя нарицательное')"
   ]
  }
 ],
 "metadata": {
  "language_info": {
   "name": "python"
  }
 },
 "nbformat": 4,
 "nbformat_minor": 2
}
