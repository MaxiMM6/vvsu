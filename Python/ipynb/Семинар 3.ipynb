{
 "cells": [
  {
   "cell_type": "code",
   "execution_count": 10,
   "metadata": {},
   "outputs": [
    {
     "name": "stdout",
     "output_type": "stream",
     "text": [
      "Это не положительное число.\n",
      "-9.0\n"
     ]
    }
   ],
   "source": [
    "#task1\n",
    "\n",
    "user_input = float(input('Введите число: '))\n",
    "\n",
    "if user_input > 0:\n",
    "    print(\"Молодец!\")\n",
    "else:\n",
    "    print(\"Это не положительное число.\")\n",
    "print(user_input)"
   ]
  },
  {
   "cell_type": "code",
   "execution_count": 3,
   "metadata": {},
   "outputs": [
    {
     "name": "stdout",
     "output_type": "stream",
     "text": [
      "3\n",
      "Плохо\n",
      "5\n",
      "Удовлетворительно\n",
      "7\n",
      "Хорошо\n"
     ]
    }
   ],
   "source": [
    "#task2\n",
    "\n",
    "marks = input(\"Введите оценки от 1 до 10 через пробел: \").split()\n",
    "\n",
    "marks = [int(x) for x in marks]\n",
    "\n",
    "for i in marks:\n",
    "    if 1 <= i <= 10:\n",
    "        print(i)\n",
    "        if i <= 3:\n",
    "            print(\"Плохо\")\n",
    "        elif 4 <= i <= 6:\n",
    "            print(\"Удовлетворительно\")\n",
    "        elif 7 <= i <= 9:\n",
    "            print(\"Хорошо\")\n",
    "        else:\n",
    "            print(\"Отлично\")"
   ]
  },
  {
   "cell_type": "code",
   "execution_count": 11,
   "metadata": {},
   "outputs": [
    {
     "name": "stdout",
     "output_type": "stream",
     "text": [
      "Incorrect password, try again!\n",
      "123\n"
     ]
    }
   ],
   "source": [
    "#task3\n",
    "\n",
    "user_password = input(\"Введите пароль: \")\n",
    "\n",
    "correct_password = '12345'\n",
    "\n",
    "if user_password == correct_password:\n",
    "    print('Login success')\n",
    "else:\n",
    "    print('Incorrect password, try again!')\n",
    "print(user_password)"
   ]
  },
  {
   "cell_type": "code",
   "execution_count": 13,
   "metadata": {},
   "outputs": [
    {
     "name": "stdout",
     "output_type": "stream",
     "text": [
      "Мое любимое число!\n",
      "3\n"
     ]
    }
   ],
   "source": [
    "#task4\n",
    "\n",
    "favorites = [3, 7, 11, 23, 18, 48, 81]\n",
    "\n",
    "integer_number = int(input(\"Введите целое число: \"))\n",
    "\n",
    "if integer_number not in favorites:\n",
    "    print('Эх, ну почему?')\n",
    "\n",
    "else:\n",
    "    print(\"Мое любимое число!\")\n",
    "print(integer_number)"
   ]
  },
  {
   "cell_type": "code",
   "execution_count": 14,
   "metadata": {},
   "outputs": [
    {
     "name": "stdout",
     "output_type": "stream",
     "text": [
      "Это число четное\n",
      "4\n"
     ]
    }
   ],
   "source": [
    "#task5\n",
    "\n",
    "user_number = int(input(\"Введите число: \"))\n",
    "\n",
    "if user_number % 2 == 0:\n",
    "    print('Это число четное')\n",
    "\n",
    "else:\n",
    "    print(\"Это число нечетное\")\n",
    "print(user_number)"
   ]
  },
  {
   "cell_type": "code",
   "execution_count": 1,
   "metadata": {},
   "outputs": [
    {
     "name": "stdout",
     "output_type": "stream",
     "text": [
      "World\n",
      "Это имя собственное\n"
     ]
    }
   ],
   "source": [
    "#task6\n",
    "\n",
    "user_noun = input('Введите существительное: ')\n",
    "print(user_noun)\n",
    "\n",
    "if user_noun.istitle():\n",
    "    print('Это имя собственное')\n",
    "\n",
    "else:\n",
    "    print('Это имя нарицательное')\n"
   ]
  }
 ],
 "metadata": {
  "kernelspec": {
   "display_name": "Python 3",
   "language": "python",
   "name": "python3"
  },
  "language_info": {
   "codemirror_mode": {
    "name": "ipython",
    "version": 3
   },
   "file_extension": ".py",
   "mimetype": "text/x-python",
   "name": "python",
   "nbconvert_exporter": "python",
   "pygments_lexer": "ipython3",
   "version": "3.13.0"
  }
 },
 "nbformat": 4,
 "nbformat_minor": 2
}
