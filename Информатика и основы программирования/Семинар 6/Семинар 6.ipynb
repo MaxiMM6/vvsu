{
 "cells": [
  {
   "cell_type": "code",
   "execution_count": 4,
   "metadata": {},
   "outputs": [
    {
     "name": "stdout",
     "output_type": "stream",
     "text": [
      "#A [216, 432, 648, 864, 1962, 3366]\n",
      "#B [216, 432, 648, 864, 1962, 3366]\n"
     ]
    }
   ],
   "source": [
    "#task1\n",
    "\n",
    "#A\n",
    "def multiply(num):\n",
    "    return num * (var + 7)\n",
    "\n",
    "var = 11\n",
    "numbers = [12, 24, 36, 48, 109, 187]\n",
    "new_numbers = list(map(multiply, numbers))\n",
    "print(f'#A {new_numbers}')\n",
    "\n",
    "#B\n",
    "numbers = [12, 24, 36, 48, 109, 187]\n",
    "result = list(map(lambda x: x * (var + 7), numbers))\n",
    "print(f'#B {result}')"
   ]
  },
  {
   "cell_type": "code",
   "execution_count": 5,
   "metadata": {},
   "outputs": [
    {
     "name": "stdout",
     "output_type": "stream",
     "text": [
      "[49, 81, 12, 4, 63, 48, 24, 36, 21, 2, 21]\n"
     ]
    }
   ],
   "source": [
    "#task2\n",
    "\n",
    "my_number = [7, 9, 6, 1, 9, 6, 8, 4, 7, 1, 7]\n",
    "another_number = [7, 9, 2, 4, 7, 8, 3, 9, 3, 2, 3]\n",
    "\n",
    "new_number = list(map(lambda x, y: x * y, my_number, another_number))\n",
    "\n",
    "print(new_number)\n"
   ]
  },
  {
   "cell_type": "code",
   "execution_count": 6,
   "metadata": {},
   "outputs": [
    {
     "name": "stdout",
     "output_type": "stream",
     "text": [
      "[77, 99, 66, 11, 99, 66, 88, 44, 77, 11, 77]\n",
      "Odd - [77, 99, 11, 99, 77, 11, 77]\n",
      "Even - [66, 66, 88, 44]\n"
     ]
    }
   ],
   "source": [
    "#task3\n",
    "\n",
    "my_number = [7, 9, 6, 1, 9, 6, 8, 4, 7, 1, 7]\n",
    "var = 11\n",
    "\n",
    "new_number = list(map(lambda x: x * var, my_number))\n",
    "\n",
    "odd = list(filter(lambda y: y % 2 != 0, new_number))\n",
    "even = list(filter(lambda z: z % 2 == 0, new_number))\n",
    "\n",
    "print(new_number)\n",
    "print(f'Odd - {odd}')\n",
    "print(f'Even - {even}')"
   ]
  },
  {
   "cell_type": "code",
   "execution_count": 7,
   "metadata": {},
   "outputs": [
    {
     "name": "stdout",
     "output_type": "stream",
     "text": [
      "#A [1, 2, 1, 0, 2, 1, 2, 1, 1, 0, 1]\n",
      "#B [1.75, 2.25, 1.5, 0.25, 2.25, 1.5, 2.0, 1.0, 1.75, 0.25, 1.75]\n"
     ]
    }
   ],
   "source": [
    "#task4\n",
    "\n",
    "my_number = ['7', '9', '6', '1', '9', '6', '8', '4', '7', '1', '7']\n",
    "var = '4'\n",
    "\n",
    "#A\n",
    "int_division = list(map(lambda x: int(x) // int(var), my_number))\n",
    "print(f'#A {int_division}')\n",
    "\n",
    "#B\n",
    "float_division = list(map(lambda x: int(x) / int(var), my_number))\n",
    "print(f'#B {float_division}')\n"
   ]
  }
 ],
 "metadata": {
  "kernelspec": {
   "display_name": "Python 3",
   "language": "python",
   "name": "python3"
  },
  "language_info": {
   "codemirror_mode": {
    "name": "ipython",
    "version": 3
   },
   "file_extension": ".py",
   "mimetype": "text/x-python",
   "name": "python",
   "nbconvert_exporter": "python",
   "pygments_lexer": "ipython3",
   "version": "3.13.0"
  }
 },
 "nbformat": 4,
 "nbformat_minor": 2
}
