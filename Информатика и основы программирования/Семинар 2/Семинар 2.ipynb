{
 "cells": [
  {
   "cell_type": "code",
   "execution_count": 1,
   "metadata": {},
   "outputs": [
    {
     "name": "stdout",
     "output_type": "stream",
     "text": [
      "Ваша фамилия: Жиляков\n",
      "Ваше имя: Максим\n",
      "Ваше отчество: Николаевич\n"
     ]
    }
   ],
   "source": [
    "#task1\n",
    "\n",
    "fio = input(\"Введите Ваши ФИО: \")\n",
    "\n",
    "surname, name, patronymic = fio.split()\n",
    "\n",
    "print(f\"Ваша фамилия: {surname}\")\n",
    "print(f\"Ваше имя: {name}\")\n",
    "print(f\"Ваше отчество: {patronymic}\")"
   ]
  },
  {
   "cell_type": "code",
   "execution_count": 2,
   "metadata": {},
   "outputs": [
    {
     "name": "stdout",
     "output_type": "stream",
     "text": [
      "[1, 2, 3, 100]\n",
      "[1.0, 2.0, 3.0, 100.0]\n"
     ]
    }
   ],
   "source": [
    "#task2  \n",
    "\n",
    "a = \"1; 2; 3; 100\"\n",
    "\n",
    "a_list = a.split(\"; \")\n",
    "a_int = []\n",
    "\n",
    "a_list = [a_int.append(int(n)) for n in a_list]\n",
    "print(a_int)\n",
    "\n",
    "a_float = [float(i) for i in a_int]\n",
    "print(a_float)"
   ]
  },
  {
   "cell_type": "code",
   "execution_count": 3,
   "metadata": {},
   "outputs": [
    {
     "name": "stdout",
     "output_type": "stream",
     "text": [
      "89619684717\n"
     ]
    }
   ],
   "source": [
    "#task3\n",
    "\n",
    "a = input(\"Введите номер телефона через дефис: \")\n",
    "\n",
    "b = a.replace(\"-\", \"\")\n",
    "\n",
    "print(b)"
   ]
  },
  {
   "cell_type": "code",
   "execution_count": 4,
   "metadata": {},
   "outputs": [
    {
     "name": "stdout",
     "output_type": "stream",
     "text": [
      "[1.0, 3.0, 4.653212513775344]\n"
     ]
    }
   ],
   "source": [
    "#task4 \n",
    "\n",
    "import math\n",
    "\n",
    "dohod = input(\"Введите доходы через пробел: \").split()\n",
    "\n",
    "l = [int(i) for i in dohod]\n",
    "\n",
    "l_log = [math.log10(x) for x in l]\n",
    "\n",
    "print(l_log)"
   ]
  },
  {
   "cell_type": "code",
   "execution_count": 5,
   "metadata": {},
   "outputs": [
    {
     "name": "stdout",
     "output_type": "stream",
     "text": [
      "['speak', 'to', 'me', 'of', 'florence', 'and', 'of', 'the', 'renaissance']\n"
     ]
    }
   ],
   "source": [
    "#task5\n",
    "\n",
    "words = [\"Speak \",\"to\", \"me \", \"of\", \"Florence\", \"And \", \"of\", \"the\", \"Renaissance\"]\n",
    "\n",
    "words_clean = [i.strip().lower() for i in words]\n",
    "\n",
    "print(words_clean)"
   ]
  }
 ],
 "metadata": {
  "kernelspec": {
   "display_name": "Python 3",
   "language": "python",
   "name": "python3"
  },
  "language_info": {
   "codemirror_mode": {
    "name": "ipython",
    "version": 3
   },
   "file_extension": ".py",
   "mimetype": "text/x-python",
   "name": "python",
   "nbconvert_exporter": "python",
   "pygments_lexer": "ipython3",
   "version": "3.12.6"
  }
 },
 "nbformat": 4,
 "nbformat_minor": 2
}
